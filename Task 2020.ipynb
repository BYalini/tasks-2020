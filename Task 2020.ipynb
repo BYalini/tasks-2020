{
 "cells": [
  {
   "cell_type": "markdown",
   "metadata": {},
   "source": [
    "1. Write a Python function called counts that takes a list as\n",
    "input and returns a dictionary of unique items in the list as keys and the number of\n",
    "times each item appears as values. So, the input ['A', 'A', 'B', 'C', 'A']\n",
    "should have output {'A': 3, 'B': 1, 'C': 1} . Your code should not depend\n",
    "on any module from the standard library1 or otherwise. You should research\n",
    "the task first and include a description with references of your algorithm in the\n",
    "notebook."
   ]
  },
  {
   "cell_type": "markdown",
   "metadata": {},
   "source": [
    "**References:**\n",
    "* [Coursera - Counting with Dictionaries](https://www.coursera.org/lecture/python-data/9-2-counting-with-dictionaries-HLgKK)\n",
    "* [Geeksforgeeks - Count number of items in a dictionary](https://www.geeksforgeeks.org/python-count-number-of-items-in-a-dictionary-value-that-is-a-list/)\n",
    "* [Geeksforgeeks - Counting the frequencies in a list]( https://www.geeksforgeeks.org/counting-the-frequencies-in-a-list-using-dictionary-in-python/)                         "
   ]
  },
  {
   "cell_type": "code",
   "execution_count": 1,
   "metadata": {},
   "outputs": [],
   "source": [
    "def CountFrequency(my_list): \n",
    "# Creating an empty dictionary  \n",
    "    freq = {} \n",
    "    \n",
    "    # loop through each element in the list\n",
    "    for item in my_list :\n",
    "        \n",
    "        #if key not in dictionary\n",
    "        if item not in freq:\n",
    "            freq[item] = 1\n",
    "            \n",
    "        # if key is in dictionary\n",
    "        else :\n",
    "            freq[item] = freq[item] + 1 \n",
    "    \n",
    "    # return dictionary\n",
    "    return freq"
   ]
  },
  {
   "cell_type": "code",
   "execution_count": 2,
   "metadata": {},
   "outputs": [
    {
     "data": {
      "text/plain": [
       "{'A': 3, 'B': 1, 'C': 1}"
      ]
     },
     "execution_count": 2,
     "metadata": {},
     "output_type": "execute_result"
    }
   ],
   "source": [
    "# count elements in a list\n",
    "my_list = ['A', 'A', 'B', 'C', 'A']\n",
    "CountFrequency(my_list)"
   ]
  },
  {
   "cell_type": "code",
   "execution_count": 3,
   "metadata": {},
   "outputs": [
    {
     "data": {
      "text/plain": [
       "{'Y': 1,\n",
       " 'a': 4,\n",
       " 'l': 1,\n",
       " 'i': 2,\n",
       " 'n': 3,\n",
       " ' ': 1,\n",
       " 'B': 1,\n",
       " 'r': 1,\n",
       " 'h': 1,\n",
       " 'v': 1}"
      ]
     },
     "execution_count": 3,
     "metadata": {},
     "output_type": "execute_result"
    }
   ],
   "source": [
    "# this function can also be used to count elements in a string\n",
    "my_name = 'Yalini Brhanavan'\n",
    "CountFrequency(my_name)"
   ]
  },
  {
   "cell_type": "code",
   "execution_count": 4,
   "metadata": {
    "scrolled": true
   },
   "outputs": [
    {
     "data": {
      "text/plain": [
       "{1: 5, 2: 3, 4: 2, 5: 1, 6: 2, 7: 1, 8: 1, 3: 1}"
      ]
     },
     "execution_count": 4,
     "metadata": {},
     "output_type": "execute_result"
    }
   ],
   "source": [
    "# can also be used to count elements in a numpy array \n",
    "import numpy as np\n",
    "\n",
    "my_arr = np.array([1,2,4,5,6,1,2,4,7,8,1,6,2,3,1,1])\n",
    "CountFrequency(my_arr)"
   ]
  },
  {
   "cell_type": "markdown",
   "metadata": {},
   "source": [
    "**This is an alternate implemention using the python's collections module, the advatange is speed**"
   ]
  },
  {
   "cell_type": "markdown",
   "metadata": {},
   "source": [
    "**References:**\n",
    "* [Python documentation - Counter](https://docs.python.org/3.1/library/collections.html)\n",
    "* [Geeksforgeeks - Counter Objects](https://www.geeksforgeeks.org/python-counter-objects-elements/)\n",
    "* [Medium.com- Counter Class](https://medium.com/khaliat/the-counter-class-in-python-b8be31d5e4f6)"
   ]
  },
  {
   "cell_type": "code",
   "execution_count": 5,
   "metadata": {},
   "outputs": [],
   "source": [
    "from  collections import Counter\n",
    "\n",
    "def CountFrequency2(my_list): \n",
    "    c = Counter(my_list)\n",
    "    return dict(c)"
   ]
  },
  {
   "cell_type": "code",
   "execution_count": 6,
   "metadata": {},
   "outputs": [
    {
     "data": {
      "text/plain": [
       "{'A': 3, 'B': 1, 'C': 1}"
      ]
     },
     "execution_count": 6,
     "metadata": {},
     "output_type": "execute_result"
    }
   ],
   "source": [
    "CountFrequency2(my_list)"
   ]
  },
  {
   "cell_type": "code",
   "execution_count": 7,
   "metadata": {},
   "outputs": [
    {
     "data": {
      "text/plain": [
       "{'Y': 1,\n",
       " 'a': 4,\n",
       " 'l': 1,\n",
       " 'i': 2,\n",
       " 'n': 3,\n",
       " ' ': 1,\n",
       " 'B': 1,\n",
       " 'r': 1,\n",
       " 'h': 1,\n",
       " 'v': 1}"
      ]
     },
     "execution_count": 7,
     "metadata": {},
     "output_type": "execute_result"
    }
   ],
   "source": [
    "CountFrequency2(my_name)"
   ]
  },
  {
   "cell_type": "code",
   "execution_count": 8,
   "metadata": {
    "scrolled": true
   },
   "outputs": [
    {
     "data": {
      "text/plain": [
       "{1: 5, 2: 3, 4: 2, 5: 1, 6: 2, 7: 1, 8: 1, 3: 1}"
      ]
     },
     "execution_count": 8,
     "metadata": {},
     "output_type": "execute_result"
    }
   ],
   "source": [
    "CountFrequency2(my_arr)"
   ]
  },
  {
   "cell_type": "markdown",
   "metadata": {},
   "source": [
    "2. Write a Python function called dicerolls that simulates\n",
    "rolling dice. Your function should take two parameters: the number of dice k and\n",
    "the number of times to roll the dice n. The function should simulate randomly\n",
    "rolling k dice n times, keeping track of each total face value. It should then return\n",
    "a dictionary with the number of times each possible total face value occurred. So,\n",
    "calling the function as diceroll(k=2, n=1000) should return a dictionary like:\n",
    "{2:19,3:50,4:82,5:112,6:135,7:174,8:133,9:114,10:75,11:70,12:36}\n",
    "You can use any module from the Python standard library you wish and you should\n",
    "include a description with references of your algorithm in the notebook."
   ]
  },
  {
   "cell_type": "markdown",
   "metadata": {},
   "source": [
    "**References:**\n",
    "* [Numpy documentation - integers method of a default_rng()](https://numpy.org/doc/stable/reference/random/generated/numpy.random.Generator.integers.html#numpy.random.Generator.integers)\n",
    "* [Simulating randomness using Python’s NumPy random module](https://medium.com/@soumen.atta/simulating-randomness-using-pythons-numpy-random-module-ad96023daee7)\n",
    "* [Stackoverflow - Sorting a dict by key](https://stackoverflow.com/questions/9001509/how-can-i-sort-a-dictionary-by-key)                                  "
   ]
  },
  {
   "cell_type": "code",
   "execution_count": 9,
   "metadata": {},
   "outputs": [],
   "source": [
    "import numpy as np\n",
    "\n",
    "def dicerolls(k, n) : \n",
    "    # k = number of dice \n",
    "    # n = the number of times to roll the dice \n",
    "    rng = np.random.default_rng()\n",
    "    dices = []\n",
    "    \n",
    "    for i in range(k):\n",
    "        dices.append(rng.integers(low=1, high=7, size=n))\n",
    "    \n",
    "    total = [0] * n\n",
    "    for j in range(n) : \n",
    "        for die in dices :\n",
    "            total[j] = total[j] + die[j]\n",
    "    \n",
    "    results = CountFrequency(total)\n",
    "    results = dict(sorted(results.items()))\n",
    "    return  results "
   ]
  },
  {
   "cell_type": "code",
   "execution_count": 10,
   "metadata": {},
   "outputs": [
    {
     "name": "stdout",
     "output_type": "stream",
     "text": [
      "{2: 23, 3: 50, 4: 89, 5: 95, 6: 146, 7: 179, 8: 148, 9: 115, 10: 75, 11: 59, 12: 21}\n"
     ]
    }
   ],
   "source": [
    "# get results for rolling 2 dice 1000 times\n",
    "results = dicerolls(2,1000)\n",
    "print(results)"
   ]
  },
  {
   "cell_type": "markdown",
   "metadata": {},
   "source": [
    "Referene : \n",
    "* [Pythonbasics.org - Matplotlib Bar Chart](https://pythonbasics.org/matplotlib-bar-chart/)\n",
    "* [pyplot documentation](https://matplotlib.org/3.3.3/api/_as_gen/matplotlib.pyplot.bar.html)"
   ]
  },
  {
   "cell_type": "code",
   "execution_count": 11,
   "metadata": {},
   "outputs": [],
   "source": [
    "import matplotlib.pyplot as plt\n",
    "\n",
    "def plot_dicerolls(results) : \n",
    "    plt.bar(results.keys(), results.values())\n",
    "    plt.xticks(list(results.keys()))\n",
    "    plt.xlabel('Dice Total')\n",
    "    plt.ylabel('Frequency')\n",
    "    plt.show()"
   ]
  },
  {
   "cell_type": "code",
   "execution_count": 12,
   "metadata": {},
   "outputs": [
    {
     "data": {
      "image/png": "[encoded data removed]",
      "text/plain": [
       "<Figure size 432x288 with 1 Axes>"
      ]
     },
     "metadata": {
      "needs_background": "light"
     },
     "output_type": "display_data"
    }
   ],
   "source": [
    "# plot results dictionary\n",
    "plot_dicerolls(results)"
   ]
  },
  {
   "cell_type": "code",
   "execution_count": 13,
   "metadata": {},
   "outputs": [
    {
     "data": {
      "image/png": "[encoded data removed]",
      "text/plain": [
       "<Figure size 432x288 with 1 Axes>"
      ]
     },
     "metadata": {
      "needs_background": "light"
     },
     "output_type": "display_data"
    }
   ],
   "source": [
    "# can do this in one step , for example 3 dice 10,000 times\n",
    "plot_dicerolls(dicerolls(3,10000))"
   ]
  },
  {
   "cell_type": "markdown",
   "metadata": {},
   "source": [
    "**References:**\n",
    "* [Numpy documentation-sum](https://numpy.org/doc/stable/reference/generated/numpy.sum.html)\n",
    "* [Stackoverflow - How to calculate the sum of all columns of a 2D numpy array](https://stackoverflow.com/questions/13567345/how-to-calculate-the-sum-of-all-columns-of-a-2d-numpy-array-efficiently)\n",
    "* [Geekforgeeks - numpy.sum() in Python](https://www.geeksforgeeks.org/numpy-sum-in-python/)"
   ]
  },
  {
   "cell_type": "code",
   "execution_count": 14,
   "metadata": {},
   "outputs": [],
   "source": [
    "def dicerolls2(k, n) : \n",
    "    # k = number of dice \n",
    "    # n = the number of times to roll the dice \n",
    "    rng = np.random.default_rng()\n",
    "    dices = rng.integers(low=1, high=7, size=(k,n))\n",
    "    \n",
    "    dice_total = np.sum(dices, axis=0)\n",
    " \n",
    "    results = CountFrequency(dice_total)\n",
    "    results = dict(sorted(results.items()))\n",
    "    return  results"
   ]
  },
  {
   "cell_type": "code",
   "execution_count": 15,
   "metadata": {
    "scrolled": true
   },
   "outputs": [
    {
     "data": {
      "image/png": "[encoded data removed]",
      "text/plain": [
       "<Figure size 432x288 with 1 Axes>"
      ]
     },
     "metadata": {
      "needs_background": "light"
     },
     "output_type": "display_data"
    }
   ],
   "source": [
    "plot_dicerolls(dicerolls2(2,1000))"
   ]
  },
  {
   "cell_type": "markdown",
   "metadata": {},
   "source": [
    "3.  The numpy.random.binomial function can be used to simulate flipping a coin with a 50/50 chance of heads or tails. Interestingly, if a\n",
    "coin is flipped many times then the number of heads is well approximated by a\n",
    "bell-shaped curve. For instance, if we flip a coin 100 times in a row the chance of\n",
    "getting 50 heads is relatively high, the chances of getting 0 or 100 heads is relatively\n",
    "low, and the chances of getting any other number of heads decreases as you move\n",
    "away from 50 in either direction towards 0 or 100. Write some python code that\n",
    "simulates flipping a coin 100 times. Then run this code 1,000 times, keeping track\n",
    "of the number of heads in each of the 1,000 simulations. Select an appropriate\n",
    "plot to depict the resulting list of 1,000 numbers, showing that it roughly follows\n",
    "a bell-shaped curve. You should explain your work in a Markdown cell above the\n",
    "code."
   ]
  },
  {
   "cell_type": "markdown",
   "metadata": {},
   "source": [
    "**References :**\n",
    "  *  [Simulating Coin Toss Experiment in Python with NumPy](https://cmdlinetips.com/2018/12/simulating-coin-toss-experiment-with-binomial-random-numbers-using-numpy/)\n",
    "  *  [Numpy : Random Generator](https://numpy.org/doc/stable/reference/random/generated/numpy.random.Generator.random.html#numpy.random.Generator.random)\n",
    "  * [Matplotlib.org](https://matplotlib.org/3.1.1/api/_as_gen/matplotlib.pyplot.hist.html)"
   ]
  },
  {
   "cell_type": "code",
   "execution_count": 16,
   "metadata": {},
   "outputs": [],
   "source": [
    "# random number generator\n",
    "rng = np.random.default_rng()\n",
    "\n",
    "# 100 experimets, the prob of head is 0.5\n",
    "n = 100 \n",
    "p = 0.5"
   ]
  },
  {
   "cell_type": "code",
   "execution_count": 17,
   "metadata": {},
   "outputs": [
    {
     "name": "stdout",
     "output_type": "stream",
     "text": [
      "[47]\n"
     ]
    }
   ],
   "source": [
    "# do the experiment once, count the heads\n",
    "one_trial = rng.binomial(n, p, 1)\n",
    "print(one_trial)"
   ]
  },
  {
   "cell_type": "code",
   "execution_count": 18,
   "metadata": {},
   "outputs": [],
   "source": [
    "# repeat the experiment 1000 times\n",
    "thousand_trails = rng.binomial(n, p, 1000)"
   ]
  },
  {
   "cell_type": "code",
   "execution_count": 19,
   "metadata": {
    "scrolled": true
   },
   "outputs": [
    {
     "data": {
      "image/png": "[encoded data removed]",
      "text/plain": [
       "<Figure size 432x288 with 1 Axes>"
      ]
     },
     "metadata": {
      "needs_background": "light"
     },
     "output_type": "display_data"
    }
   ],
   "source": [
    "plt.hist(thousand_trails, rwidth=0.95)\n",
    "plt.xlabel('Total no of heads')\n",
    "plt.ylabel('Count')\n",
    "plt.show()"
   ]
  },
  {
   "cell_type": "markdown",
   "metadata": {},
   "source": [
    "4. Simpson’s paradox is a well-known statistical paradox\n",
    "where a trend evident in a number of groups reverses when the groups are combined\n",
    "into one big data set. Use numpy to create four data sets, each with an x array\n",
    "and a corresponding y array, to demonstrate Simpson’s paradox. You might\n",
    "create your x arrays using numpy.linspace and create the y array for each\n",
    "x using notation like y = a * x + b where you choose the a and b for each\n",
    "x , y pair to demonstrate the paradox. You might see the Wikipedia page for\n",
    "Simpson’s paradox for inspiration."
   ]
  },
  {
   "cell_type": "markdown",
   "metadata": {},
   "source": [
    "**References :**\n",
    "  *  [Wikipedia - Simpson’s paradox ](https://en.wikipedia.org/wiki/Simpson%27s_paradox)\n",
    "  *  [Numpy.org ](https://numpy.org/doc/stable/reference/generated/numpy.linspace.html)\n",
    "  *  [Matplotlib.org ](https://matplotlib.org/3.3.3/api/_as_gen/matplotlib.pyplot.subplots.html)\n"
   ]
  },
  {
   "cell_type": "code",
   "execution_count": 20,
   "metadata": {},
   "outputs": [
    {
     "data": {
      "text/plain": [
       "array([0. , 0.1, 0.2, 0.3, 0.4, 0.5, 0.6, 0.7, 0.8, 0.9, 1. ])"
      ]
     },
     "execution_count": 20,
     "metadata": {},
     "output_type": "execute_result"
    }
   ],
   "source": [
    "np.linspace(0,1,11)"
   ]
  },
  {
   "cell_type": "code",
   "execution_count": 21,
   "metadata": {},
   "outputs": [
    {
     "data": {
      "text/plain": [
       "array([  0.,   5.,  10.,  15.,  20.,  25.,  30.,  35.,  40.,  45.,  50.,\n",
       "        55.,  60.,  65.,  70.,  75.,  80.,  85.,  90.,  95., 100.])"
      ]
     },
     "execution_count": 21,
     "metadata": {},
     "output_type": "execute_result"
    }
   ],
   "source": [
    "np.linspace(0,100,21)"
   ]
  },
  {
   "cell_type": "code",
   "execution_count": 22,
   "metadata": {},
   "outputs": [],
   "source": [
    "x_1 = np.linspace(0,100,20)\n",
    "y_1 =  x_1 +5 "
   ]
  },
  {
   "cell_type": "code",
   "execution_count": 23,
   "metadata": {},
   "outputs": [],
   "source": [
    "x_2 = np.linspace(40,90,20)\n",
    "y_2 = -0.2 * x_2 + 100"
   ]
  },
  {
   "cell_type": "code",
   "execution_count": 24,
   "metadata": {},
   "outputs": [],
   "source": [
    "x_3 = np.linspace(20,80, 20)\n",
    "y_3 = - 0.1 * x_3 + 50 "
   ]
  },
  {
   "cell_type": "code",
   "execution_count": 25,
   "metadata": {},
   "outputs": [],
   "source": [
    "x_4 = np.linspace(10,70, 20)\n",
    "y_4 = 2* x_4 +10"
   ]
  },
  {
   "cell_type": "code",
   "execution_count": 26,
   "metadata": {},
   "outputs": [
    {
     "data": {
      "image/png": "[encoded data removed]",
      "text/plain": [
       "<Figure size 432x288 with 1 Axes>"
      ]
     },
     "metadata": {
      "needs_background": "light"
     },
     "output_type": "display_data"
    }
   ],
   "source": [
    "fig, ax = plt.subplots()\n",
    "ax.scatter(x_1, y_1)\n",
    "ax.scatter(x_2, y_2)\n",
    "ax.scatter(x_3, y_3)\n",
    "ax.scatter(x_4, y_4)\n",
    "plt.show()"
   ]
  },
  {
   "cell_type": "code",
   "execution_count": 27,
   "metadata": {},
   "outputs": [
    {
     "data": {
      "image/png": "[encoded data removed]",
      "text/plain": [
       "<Figure size 432x288 with 1 Axes>"
      ]
     },
     "metadata": {
      "needs_background": "light"
     },
     "output_type": "display_data"
    }
   ],
   "source": [
    "fig, ax = plt.subplots()\n",
    "ax.scatter(x_1, y_1, c='b')\n",
    "ax.scatter(x_2, y_2, c='b')\n",
    "ax.scatter(x_3, y_3, c='b')\n",
    "ax.scatter(x_4, y_4, c='b')\n",
    "plt.show()"
   ]
  },
  {
   "cell_type": "code",
   "execution_count": 28,
   "metadata": {},
   "outputs": [],
   "source": [
    "X = np.hstack((x_1, x_2, x_3, x_4))\n",
    "y = np.hstack((y_1, y_2, y_3, y_4))"
   ]
  },
  {
   "cell_type": "code",
   "execution_count": 29,
   "metadata": {},
   "outputs": [],
   "source": [
    "from scipy.stats import linregress\n",
    "slope, intercept, r_value, p_value, std_err = linregress(X,y)\n",
    "y_pred = slope * X + intercept"
   ]
  },
  {
   "cell_type": "code",
   "execution_count": 30,
   "metadata": {},
   "outputs": [
    {
     "data": {
      "image/png": "[encoded data removed]",
      "text/plain": [
       "<Figure size 432x288 with 1 Axes>"
      ]
     },
     "metadata": {
      "needs_background": "light"
     },
     "output_type": "display_data"
    }
   ],
   "source": [
    "plt.scatter(X, y)\n",
    "plt.plot(X, y_pred, c='r')\n",
    "plt.show()"
   ]
  }
 ],
 "metadata": {
  "kernelspec": {
   "display_name": "Python 3",
   "language": "python",
   "name": "python3"
  },
  "language_info": {
   "codemirror_mode": {
    "name": "ipython",
    "version": 3
   },
   "file_extension": ".py",
   "mimetype": "text/x-python",
   "name": "python",
   "nbconvert_exporter": "python",
   "pygments_lexer": "ipython3",
   "version": "3.8.3"
  }
 },
 "nbformat": 4,
 "nbformat_minor": 4
}
