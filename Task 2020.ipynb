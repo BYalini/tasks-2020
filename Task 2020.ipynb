{
 "cells": [
  {
   "cell_type": "markdown",
   "metadata": {},
   "source": [
    "1. Write a Python function called counts that takes a list as\n",
    "input and returns a dictionary of unique items in the list as keys and the number of\n",
    "times each item appears as values. So, the input ['A', 'A', 'B', 'C', 'A']\n",
    "should have output {'A': 3, 'B': 1, 'C': 1} . Your code should not depend\n",
    "on any module from the standard library1 or otherwise. You should research\n",
    "the task first and include a description with references of your algorithm in the\n",
    "notebook."
   ]
  },
  {
   "cell_type": "raw",
   "metadata": {},
   "source": [
    "Reference : \n",
    "\n",
    "  coursera: https://www.coursera.org/lecture/python-data/9-2-counting-with-dictionaries-HLgKK\n",
    "            https://www.geeksforgeeks.org/python-count-number-of-items-in-a-dictionary-value-that-is-a-list/\n",
    "            https://www.geeksforgeeks.org/counting-the-frequencies-in-a-list-using-dictionary-in-python/\n",
    "                "
   ]
  },
  {
   "cell_type": "code",
   "execution_count": 1,
   "metadata": {},
   "outputs": [],
   "source": [
    "def CountFrequency(my_list): \n",
    "# Creating an empty dictionary  \n",
    "    freq = {} \n",
    "    \n",
    "    # loop through each element in the list\n",
    "    for item in my_list :\n",
    "        \n",
    "        #if key not in dictionary\n",
    "        if item not in freq:\n",
    "            freq[item] = 1\n",
    "            \n",
    "        # if key is in dictionary\n",
    "        else :\n",
    "            freq[item] = freq[item] + 1 \n",
    "    \n",
    "    # return dictionary\n",
    "    return freq"
   ]
  },
  {
   "cell_type": "code",
   "execution_count": 2,
   "metadata": {},
   "outputs": [
    {
     "data": {
      "text/plain": [
       "{'A': 3, 'B': 1, 'C': 1}"
      ]
     },
     "execution_count": 2,
     "metadata": {},
     "output_type": "execute_result"
    }
   ],
   "source": [
    "# count elements in a list\n",
    "my_list = ['A', 'A', 'B', 'C', 'A']\n",
    "CountFrequency(my_list)"
   ]
  },
  {
   "cell_type": "code",
   "execution_count": 3,
   "metadata": {},
   "outputs": [
    {
     "data": {
      "text/plain": [
       "{'Y': 1,\n",
       " 'a': 4,\n",
       " 'l': 1,\n",
       " 'i': 2,\n",
       " 'n': 3,\n",
       " ' ': 1,\n",
       " 'B': 1,\n",
       " 'r': 1,\n",
       " 'h': 1,\n",
       " 'v': 1}"
      ]
     },
     "execution_count": 3,
     "metadata": {},
     "output_type": "execute_result"
    }
   ],
   "source": [
    "# this function can also be used to count elements in a string\n",
    "my_name = 'Yalini Brhanavan'\n",
    "CountFrequency(my_name)"
   ]
  },
  {
   "cell_type": "code",
   "execution_count": 4,
   "metadata": {},
   "outputs": [
    {
     "data": {
      "text/plain": [
       "{1: 5, 2: 3, 4: 2, 5: 1, 6: 2, 7: 1, 8: 1, 3: 1}"
      ]
     },
     "execution_count": 4,
     "metadata": {},
     "output_type": "execute_result"
    }
   ],
   "source": [
    "# can also be used to count elements in a numpy array \n",
    "import numpy as np\n",
    "\n",
    "my_arr = np.array([1,2,4,5,6,1,2,4,7,8,1,6,2,3,1,1])\n",
    "CountFrequency(my_arr)"
   ]
  },
  {
   "cell_type": "code",
   "execution_count": 5,
   "metadata": {},
   "outputs": [],
   "source": [
    "#This is an alternate implemention using the python's collections module, the advatange is speed\n",
    "# Ref : https://docs.python.org/3.1/library/collections.html\n",
    "# https://www.geeksforgeeks.org/python-counter-objects-elements/\n",
    "# https://medium.com/khaliat/the-counter-class-in-python-b8be31d5e4f6"
   ]
  },
  {
   "cell_type": "code",
   "execution_count": 6,
   "metadata": {},
   "outputs": [],
   "source": [
    "from  collections import Counter\n",
    "\n",
    "def CountFrequency2(my_list): \n",
    "    c = Counter(my_list)\n",
    "    return dict(c)"
   ]
  },
  {
   "cell_type": "code",
   "execution_count": 7,
   "metadata": {},
   "outputs": [
    {
     "data": {
      "text/plain": [
       "{'A': 3, 'B': 1, 'C': 1}"
      ]
     },
     "execution_count": 7,
     "metadata": {},
     "output_type": "execute_result"
    }
   ],
   "source": [
    "CountFrequency2(my_list)"
   ]
  },
  {
   "cell_type": "code",
   "execution_count": 8,
   "metadata": {},
   "outputs": [
    {
     "data": {
      "text/plain": [
       "{'Y': 1,\n",
       " 'a': 4,\n",
       " 'l': 1,\n",
       " 'i': 2,\n",
       " 'n': 3,\n",
       " ' ': 1,\n",
       " 'B': 1,\n",
       " 'r': 1,\n",
       " 'h': 1,\n",
       " 'v': 1}"
      ]
     },
     "execution_count": 8,
     "metadata": {},
     "output_type": "execute_result"
    }
   ],
   "source": [
    "CountFrequency2(my_name)"
   ]
  },
  {
   "cell_type": "code",
   "execution_count": 9,
   "metadata": {},
   "outputs": [
    {
     "data": {
      "text/plain": [
       "{1: 5, 2: 3, 4: 2, 5: 1, 6: 2, 7: 1, 8: 1, 3: 1}"
      ]
     },
     "execution_count": 9,
     "metadata": {},
     "output_type": "execute_result"
    }
   ],
   "source": [
    "CountFrequency2(my_arr)"
   ]
  },
  {
   "cell_type": "code",
   "execution_count": null,
   "metadata": {},
   "outputs": [],
   "source": []
  }
 ],
 "metadata": {
  "kernelspec": {
   "display_name": "Python 3",
   "language": "python",
   "name": "python3"
  },
  "language_info": {
   "codemirror_mode": {
    "name": "ipython",
    "version": 3
   },
   "file_extension": ".py",
   "mimetype": "text/x-python",
   "name": "python",
   "nbconvert_exporter": "python",
   "pygments_lexer": "ipython3",
   "version": "3.8.3"
  }
 },
 "nbformat": 4,
 "nbformat_minor": 4
}
